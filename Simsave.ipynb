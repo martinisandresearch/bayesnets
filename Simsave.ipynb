{
 "cells": [
  {
   "cell_type": "code",
   "execution_count": 73,
   "metadata": {},
   "outputs": [],
   "source": [
    "import numpy as np\n",
    "import seaborn as sns\n",
    "from matplotlib import pyplot as plt\n",
    "import importlib\n",
    "from notebooks import utils as relic\n",
    "from swarm import activations\n",
    "from swarm import networks\n",
    "from swarm import regimes\n",
    "from swarm import simtools\n",
    "import pendulum\n",
    "import pandas as pd\n",
    "sns.set()\n",
    "import animate_training\n"
   ]
  },
  {
   "cell_type": "code",
   "execution_count": 2,
   "metadata": {},
   "outputs": [],
   "source": [
    "plt.rcParams[\"figure.figsize\"] = (14.0, 7.0)"
   ]
  },
  {
   "cell_type": "code",
   "execution_count": 193,
   "metadata": {},
   "outputs": [
    {
     "data": {
      "text/plain": [
       "<module 'swarm.simtools' from '/Users/aidanmorrison/bayesnets/swarm/simtools.py'>"
      ]
     },
     "execution_count": 193,
     "metadata": {},
     "output_type": "execute_result"
    }
   ],
   "source": [
    "importlib.reload(simtools)"
   ]
  },
  {
   "cell_type": "code",
   "execution_count": 194,
   "metadata": {},
   "outputs": [],
   "source": [
    "params = {\n",
    "        'hidden': 2,\n",
    "        'width': 10,\n",
    "        'swarm_size': 20,\n",
    "        'nepoch': 400,\n",
    "        'xdomain': [-3,3],\n",
    "        'density': 10,\n",
    "        'funcname': 'sin',\n",
    "        'lr': 0.002,\n",
    "        'momentum': 0.9\n",
    "}\n",
    "param_list = []\n",
    "for w in [10,30]:\n",
    "    for h in [1,3]:\n",
    "        for lr in [0.002, 0.02]:\n",
    "            this_params = params\n",
    "            this_params['hidden'] = h\n",
    "            this_params['width'] = w\n",
    "            this_params['lr'] = lr\n",
    "            param_list.append(this_params.copy())"
   ]
  },
  {
   "cell_type": "code",
   "execution_count": 195,
   "metadata": {},
   "outputs": [
    {
     "name": "stdout",
     "output_type": "stream",
     "text": [
      "Starting training\n",
      "Finished training in 2 seconds\n",
      "finished sim0\n",
      "Starting training\n",
      "Finished training in 2 seconds\n",
      "finished sim1\n",
      "Starting training\n",
      "Finished training in 4 seconds\n",
      "finished sim2\n",
      "Starting training\n",
      "Finished training in 4 seconds\n",
      "finished sim3\n",
      "Starting training\n",
      "Finished training in 3 seconds\n",
      "finished sim4\n",
      "Starting training\n",
      "Finished training in 2 seconds\n",
      "finished sim5\n",
      "Starting training\n",
      "Finished training in 4 seconds\n",
      "finished sim6\n",
      "Starting training\n",
      "Finished training in 4 seconds\n",
      "finished sim7\n"
     ]
    }
   ],
   "source": [
    "simtools.run_save_sim(\"vischal\", \"out_sims\", param_list)"
   ]
  },
  {
   "cell_type": "code",
   "execution_count": null,
   "metadata": {},
   "outputs": [],
   "source": []
  }
 ],
 "metadata": {
  "kernelspec": {
   "display_name": "Python 3",
   "language": "python",
   "name": "python3"
  },
  "language_info": {
   "codemirror_mode": {
    "name": "ipython",
    "version": 3
   },
   "file_extension": ".py",
   "mimetype": "text/x-python",
   "name": "python",
   "nbconvert_exporter": "python",
   "pygments_lexer": "ipython3",
   "version": "3.7.3"
  }
 },
 "nbformat": 4,
 "nbformat_minor": 2
}
