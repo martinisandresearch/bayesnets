{
 "cells": [
  {
   "cell_type": "code",
   "execution_count": 1,
   "metadata": {},
   "outputs": [],
   "source": [
    "import sys\n",
    "sys.path.append('/Users/aidanmorrison/bayesnets')"
   ]
  },
  {
   "cell_type": "code",
   "execution_count": 19,
   "metadata": {},
   "outputs": [],
   "source": [
    "from swarm import core\n",
    "from swarm import io\n",
    "import json\n",
    "import basic_hive\n",
    "import importlib\n",
    "from matplotlib import pyplot as plt"
   ]
  },
  {
   "cell_type": "code",
   "execution_count": 3,
   "metadata": {},
   "outputs": [
    {
     "data": {
      "text/plain": [
       "<module 'basic_hive' from '/Users/aidanmorrison/bayesnets/experiments/goofy/basic_hive.py'>"
      ]
     },
     "execution_count": 3,
     "metadata": {},
     "output_type": "execute_result"
    }
   ],
   "source": [
    "importlib.reload(basic_hive)"
   ]
  },
  {
   "cell_type": "code",
   "execution_count": 34,
   "metadata": {},
   "outputs": [],
   "source": [
    "reslist, static_params = basic_hive.main()"
   ]
  },
  {
   "cell_type": "code",
   "execution_count": 36,
   "metadata": {},
   "outputs": [],
   "source": [
    "my_dict = reslist[0]"
   ]
  },
  {
   "cell_type": "code",
   "execution_count": 37,
   "metadata": {},
   "outputs": [
    {
     "data": {
      "text/plain": [
       "{'results': {'ypred': array([[[ 0.5067997 ,  0.48141554,  0.4566283 , ..., -0.68168855,\n",
       "           -0.71989   , -0.7584077 ],\n",
       "          [ 0.50630534,  0.48093456,  0.4561603 , ..., -0.681381  ,\n",
       "           -0.7195765 , -0.758088  ],\n",
       "          [ 0.5054742 ,  0.4801249 ,  0.45537257, ..., -0.68086535,\n",
       "           -0.71905065, -0.75755227],\n",
       "          ...,\n",
       "          [ 0.48261434,  0.4570974 ,  0.43220288, ..., -0.6734604 ,\n",
       "           -0.71272826, -0.752311  ],\n",
       "          [ 0.48266116,  0.4571167 ,  0.43219528, ..., -0.67372024,\n",
       "           -0.713035  , -0.7526647 ],\n",
       "          [ 0.48271558,  0.45714334,  0.43219504, ..., -0.6739855 ,\n",
       "           -0.71334743, -0.75302446]],\n",
       "  \n",
       "         [[-0.3222792 , -0.31145537, -0.30093658, ...,  0.16685912,\n",
       "            0.17750674,  0.1882756 ],\n",
       "          [-0.29538012, -0.2856763 , -0.27627718, ...,  0.14589605,\n",
       "            0.15542924,  0.16508242],\n",
       "          [-0.25043964, -0.24260706, -0.23507851, ...,  0.11089036,\n",
       "            0.1185618 ,  0.12635121],\n",
       "          ...,\n",
       "          [ 0.6160896 ,  0.5882821 ,  0.5601921 , ..., -0.51744676,\n",
       "           -0.5451567 , -0.5728102 ],\n",
       "          [ 0.6167477 ,  0.588918  ,  0.5608057 , ..., -0.5169227 ,\n",
       "           -0.5446527 , -0.57232696],\n",
       "          [ 0.6173897 ,  0.58953774,  0.56140363, ..., -0.5164008 ,\n",
       "           -0.54415095, -0.57184535]],\n",
       "  \n",
       "         [[ 1.9966943 ,  1.9249507 ,  1.8534045 , ..., -1.0008847 ,\n",
       "           -1.0788306 , -1.1571723 ],\n",
       "          [ 1.9572477 ,  1.8870063 ,  1.8169626 , ..., -0.97549593,\n",
       "           -1.0520042 , -1.1289015 ],\n",
       "          [ 1.891522  ,  1.8237827 ,  1.7562413 , ..., -0.93328846,\n",
       "           -1.0074031 , -1.081895  ],\n",
       "          ...,\n",
       "          [ 0.6652786 ,  0.63964975,  0.61424655, ..., -0.37569785,\n",
       "           -0.41158772, -0.44745803],\n",
       "          [ 0.6632969 ,  0.6376359 ,  0.6122008 , ..., -0.37958616,\n",
       "           -0.41555494, -0.45150006],\n",
       "          [ 0.66134655,  0.6356534 ,  0.6101865 , ..., -0.38342762,\n",
       "           -0.41947502, -0.4554941 ]],\n",
       "  \n",
       "         [[ 0.6605424 ,  0.6130725 ,  0.56625444, ..., -1.4911436 ,\n",
       "           -1.5462756 , -1.6013157 ],\n",
       "          [ 0.65216166,  0.6052125 ,  0.55891186, ..., -1.477881  ,\n",
       "           -1.5324783 , -1.5869831 ],\n",
       "          [ 0.638098  ,  0.5920238 ,  0.54659283, ..., -1.4555817 ,\n",
       "           -1.5092803 , -1.5628856 ],\n",
       "          ...,\n",
       "          [ 0.27218994,  0.25230297,  0.23285492, ..., -0.71380645,\n",
       "           -0.73990834, -0.76591283],\n",
       "          [ 0.27283108,  0.25300118,  0.23360866, ..., -0.7100352 ,\n",
       "           -0.7360588 , -0.7619859 ],\n",
       "          [ 0.27357647,  0.25379694,  0.23445317, ..., -0.7064456 ,\n",
       "           -0.73239815, -0.7582549 ]]], dtype=float32),\n",
       "  'loss': array([[0.42884663, 0.42878923, 0.42869216, 0.42856807, 0.42842558,\n",
       "          0.42827114, 0.42810893, 0.42794201, 0.42777243, 0.42760131,\n",
       "          0.42742974, 0.4272581 , 0.42708707, 0.42691651, 0.42674664,\n",
       "          0.4265776 , 0.42640921, 0.42624146, 0.4260745 , 0.42590815,\n",
       "          0.42574239, 0.42557719, 0.42541245, 0.42524821, 0.42508441,\n",
       "          0.42492092, 0.42475766, 0.42459485, 0.42443234, 0.42427006,\n",
       "          0.42410803, 0.42394623, 0.42378449, 0.42362303, 0.42346182,\n",
       "          0.42330083, 0.42313975, 0.422979  , 0.42281833, 0.42265776,\n",
       "          0.42249736, 0.42233709, 0.42217696, 0.42201692, 0.42185706,\n",
       "          0.4216972 , 0.42153752, 0.4213779 , 0.42121834, 0.42105892],\n",
       "         [0.62119418, 0.60972607, 0.59132808, 0.56964022, 0.54728138,\n",
       "          0.52595663, 0.50664753, 0.4898088 , 0.47554058, 0.46372232,\n",
       "          0.45411235, 0.44641501, 0.44032541, 0.43555531, 0.43184698,\n",
       "          0.42897874, 0.42676592, 0.42505768, 0.42373377, 0.42269942,\n",
       "          0.42188108, 0.42122266, 0.42068174, 0.42022654, 0.41983339,\n",
       "          0.41948515, 0.41916916, 0.41887638, 0.4186002 , 0.41833583,\n",
       "          0.41808042, 0.41783127, 0.41758698, 0.41734636, 0.41710889,\n",
       "          0.41687354, 0.4166404 , 0.4164089 , 0.41617903, 0.41595069,\n",
       "          0.41572371, 0.4154979 , 0.41527331, 0.41505   , 0.41482782,\n",
       "          0.41460663, 0.41438672, 0.41416758, 0.41394973, 0.41373256],\n",
       "         [0.84802061, 0.82654005, 0.79223585, 0.75206453, 0.71097571,\n",
       "          0.67211658, 0.6372171 , 0.60700047, 0.5815292 , 0.56047988,\n",
       "          0.54333055, 0.52949113, 0.51837969, 0.50946569, 0.5022893 ,\n",
       "          0.49646682, 0.49168611, 0.48769981, 0.48431495, 0.48138338,\n",
       "          0.47879317, 0.47646043, 0.47432363, 0.47233698, 0.47046781,\n",
       "          0.46869212, 0.46699288, 0.46535772, 0.46377796, 0.46224716,\n",
       "          0.46076062, 0.45931503, 0.45790789, 0.45653698, 0.45520085,\n",
       "          0.45389828, 0.45262781, 0.45138869, 0.45017993, 0.44900045,\n",
       "          0.44784972, 0.44672677, 0.44563088, 0.44456148, 0.4435176 ,\n",
       "          0.44249874, 0.44150427, 0.44053334, 0.43958554, 0.43866012],\n",
       "         [0.67723161, 0.67212653, 0.66371942, 0.6533969 , 0.64216536,\n",
       "          0.6307196 , 0.61951625, 0.60883671, 0.59883797, 0.58959323,\n",
       "          0.5811193 , 0.57339799, 0.56638914, 0.56004208, 0.55430073,\n",
       "          0.54910815, 0.54440957, 0.54015321, 0.53629076, 0.5327791 ,\n",
       "          0.52957886, 0.52665508, 0.52397639, 0.52151507, 0.51924664,\n",
       "          0.51714927, 0.51520419, 0.51339459, 0.51170546, 0.51012373,\n",
       "          0.5086382 , 0.50723851, 0.50591612, 0.50466287, 0.50347209,\n",
       "          0.50233746, 0.50125366, 0.50021607, 0.49922049, 0.49826294,\n",
       "          0.49734053, 0.49645007, 0.49558899, 0.49475506, 0.49394622,\n",
       "          0.49316061, 0.49239674, 0.49165297, 0.49092788, 0.49022073]])},\n",
       " 'params': {'hidden': '1',\n",
       "  'width': '10',\n",
       "  'num_epochs': '50',\n",
       "  'activation': \"<class 'swarm.activations.xTanH'>\",\n",
       "  'momentum': '0.7'}}"
      ]
     },
     "execution_count": 37,
     "metadata": {},
     "output_type": "execute_result"
    }
   ],
   "source": [
    "my_dict"
   ]
  },
  {
   "cell_type": "code",
   "execution_count": 6,
   "metadata": {},
   "outputs": [],
   "source": [
    "my_df = io.to_2d(my_dict['results']['ypred'], \"ypred\")"
   ]
  },
  {
   "cell_type": "code",
   "execution_count": 27,
   "metadata": {},
   "outputs": [],
   "source": [
    "static_params = {'a':1, 'b':2.2}"
   ]
  },
  {
   "cell_type": "code",
   "execution_count": 33,
   "metadata": {},
   "outputs": [],
   "source": [
    "destdir = '..'\n",
    "with open(\"static_params.json\", \"w\") as f:\n",
    "        json.dump(static_params, f)"
   ]
  },
  {
   "cell_type": "code",
   "execution_count": 7,
   "metadata": {},
   "outputs": [
    {
     "data": {
      "text/html": [
       "<div>\n",
       "<style scoped>\n",
       "    .dataframe tbody tr th:only-of-type {\n",
       "        vertical-align: middle;\n",
       "    }\n",
       "\n",
       "    .dataframe tbody tr th {\n",
       "        vertical-align: top;\n",
       "    }\n",
       "\n",
       "    .dataframe thead th {\n",
       "        text-align: right;\n",
       "    }\n",
       "</style>\n",
       "<table border=\"1\" class=\"dataframe\">\n",
       "  <thead>\n",
       "    <tr style=\"text-align: right;\">\n",
       "      <th></th>\n",
       "      <th>bee</th>\n",
       "      <th>epoch</th>\n",
       "      <th>ypred</th>\n",
       "      <th>ypred_val</th>\n",
       "    </tr>\n",
       "  </thead>\n",
       "  <tbody>\n",
       "    <tr>\n",
       "      <th>0</th>\n",
       "      <td>0</td>\n",
       "      <td>0</td>\n",
       "      <td>0</td>\n",
       "      <td>0.506800</td>\n",
       "    </tr>\n",
       "    <tr>\n",
       "      <th>1</th>\n",
       "      <td>0</td>\n",
       "      <td>0</td>\n",
       "      <td>1</td>\n",
       "      <td>0.481416</td>\n",
       "    </tr>\n",
       "    <tr>\n",
       "      <th>2</th>\n",
       "      <td>0</td>\n",
       "      <td>0</td>\n",
       "      <td>2</td>\n",
       "      <td>0.456628</td>\n",
       "    </tr>\n",
       "    <tr>\n",
       "      <th>3</th>\n",
       "      <td>0</td>\n",
       "      <td>0</td>\n",
       "      <td>3</td>\n",
       "      <td>0.432458</td>\n",
       "    </tr>\n",
       "    <tr>\n",
       "      <th>4</th>\n",
       "      <td>0</td>\n",
       "      <td>0</td>\n",
       "      <td>4</td>\n",
       "      <td>0.408923</td>\n",
       "    </tr>\n",
       "    <tr>\n",
       "      <th>...</th>\n",
       "      <td>...</td>\n",
       "      <td>...</td>\n",
       "      <td>...</td>\n",
       "      <td>...</td>\n",
       "    </tr>\n",
       "    <tr>\n",
       "      <th>12195</th>\n",
       "      <td>3</td>\n",
       "      <td>49</td>\n",
       "      <td>56</td>\n",
       "      <td>-0.654234</td>\n",
       "    </tr>\n",
       "    <tr>\n",
       "      <th>12196</th>\n",
       "      <td>3</td>\n",
       "      <td>49</td>\n",
       "      <td>57</td>\n",
       "      <td>-0.680392</td>\n",
       "    </tr>\n",
       "    <tr>\n",
       "      <th>12197</th>\n",
       "      <td>3</td>\n",
       "      <td>49</td>\n",
       "      <td>58</td>\n",
       "      <td>-0.706446</td>\n",
       "    </tr>\n",
       "    <tr>\n",
       "      <th>12198</th>\n",
       "      <td>3</td>\n",
       "      <td>49</td>\n",
       "      <td>59</td>\n",
       "      <td>-0.732398</td>\n",
       "    </tr>\n",
       "    <tr>\n",
       "      <th>12199</th>\n",
       "      <td>3</td>\n",
       "      <td>49</td>\n",
       "      <td>60</td>\n",
       "      <td>-0.758255</td>\n",
       "    </tr>\n",
       "  </tbody>\n",
       "</table>\n",
       "<p>12200 rows × 4 columns</p>\n",
       "</div>"
      ],
      "text/plain": [
       "       bee  epoch  ypred  ypred_val\n",
       "0        0      0      0   0.506800\n",
       "1        0      0      1   0.481416\n",
       "2        0      0      2   0.456628\n",
       "3        0      0      3   0.432458\n",
       "4        0      0      4   0.408923\n",
       "...    ...    ...    ...        ...\n",
       "12195    3     49     56  -0.654234\n",
       "12196    3     49     57  -0.680392\n",
       "12197    3     49     58  -0.706446\n",
       "12198    3     49     59  -0.732398\n",
       "12199    3     49     60  -0.758255\n",
       "\n",
       "[12200 rows x 4 columns]"
      ]
     },
     "execution_count": 7,
     "metadata": {},
     "output_type": "execute_result"
    }
   ],
   "source": [
    "my_df.reset_index()\n"
   ]
  },
  {
   "cell_type": "code",
   "execution_count": 30,
   "metadata": {},
   "outputs": [],
   "source": [
    "static_params['x'] = list(static_params['x'])\n",
    "static_params['y'] = list(static_params['y'])"
   ]
  },
  {
   "cell_type": "code",
   "execution_count": 32,
   "metadata": {},
   "outputs": [],
   "source": [
    "static_params['x'] = [str(a) for a in static_params['x']]\n",
    "static_params['y'] = [str(a) for a in static_params['y']]\n",
    "static_params['seed'] = str(static_params['seed'])"
   ]
  },
  {
   "cell_type": "code",
   "execution_count": 35,
   "metadata": {},
   "outputs": [
    {
     "data": {
      "text/plain": [
       "{'x': array([-5.        , -4.8333335 , -4.6666665 , -4.5       , -4.3333335 ,\n",
       "        -4.1666665 , -4.        , -3.8333333 , -3.6666667 , -3.5       ,\n",
       "        -3.3333333 , -3.1666667 , -3.        , -2.8333333 , -2.6666667 ,\n",
       "        -2.5       , -2.3333333 , -2.1666667 , -2.        , -1.8333334 ,\n",
       "        -1.6666666 , -1.5       , -1.3333334 , -1.1666666 , -1.        ,\n",
       "        -0.8333333 , -0.6666667 , -0.5       , -0.33333334, -0.16666667,\n",
       "         0.        ,  0.16666667,  0.33333334,  0.5       ,  0.6666667 ,\n",
       "         0.8333333 ,  1.        ,  1.1666666 ,  1.3333334 ,  1.5       ,\n",
       "         1.6666666 ,  1.8333334 ,  2.        ,  2.1666667 ,  2.3333333 ,\n",
       "         2.5       ,  2.6666667 ,  2.8333333 ,  3.        ,  3.1666667 ,\n",
       "         3.3333333 ,  3.5       ,  3.6666667 ,  3.8333333 ,  4.        ,\n",
       "         4.1666665 ,  4.3333335 ,  4.5       ,  4.6666665 ,  4.8333335 ,\n",
       "         5.        ], dtype=float32),\n",
       " 'y': array([ 0.9589243 ,  0.9926951 ,  0.9989549 ,  0.9775301 ,  0.92901456,\n",
       "         0.85475254,  0.7568025 ,  0.63787866,  0.50127715,  0.35078323,\n",
       "         0.19056788,  0.02507146, -0.14112   , -0.30340055, -0.45727256,\n",
       "        -0.5984721 , -0.72308594, -0.8276603 , -0.9092974 , -0.96573466,\n",
       "        -0.99540794, -0.997495  , -0.9719379 , -0.919445  , -0.84147096,\n",
       "        -0.74017686, -0.6183698 , -0.47942555, -0.32719472, -0.16589613,\n",
       "         0.        ,  0.16589613,  0.32719472,  0.47942555,  0.6183698 ,\n",
       "         0.74017686,  0.84147096,  0.919445  ,  0.9719379 ,  0.997495  ,\n",
       "         0.99540794,  0.96573466,  0.9092974 ,  0.8276603 ,  0.72308594,\n",
       "         0.5984721 ,  0.45727256,  0.30340055,  0.14112   , -0.02507146,\n",
       "        -0.19056788, -0.35078323, -0.50127715, -0.63787866, -0.7568025 ,\n",
       "        -0.85475254, -0.92901456, -0.9775301 , -0.9989549 , -0.9926951 ,\n",
       "        -0.9589243 ], dtype=float32),\n",
       " 'seed': 10}"
      ]
     },
     "execution_count": 35,
     "metadata": {},
     "output_type": "execute_result"
    }
   ],
   "source": [
    "static_params"
   ]
  },
  {
   "cell_type": "code",
   "execution_count": 12,
   "metadata": {},
   "outputs": [
    {
     "data": {
      "text/plain": [
       "[<matplotlib.lines.Line2D at 0x12cafc490>]"
      ]
     },
     "execution_count": 12,
     "metadata": {},
     "output_type": "execute_result"
    },
    {
     "data": {
      "image/png": "[encoded data removed]",
      "text/plain": [
       "<Figure size 432x288 with 1 Axes>"
      ]
     },
     "metadata": {
      "needs_background": "light"
     },
     "output_type": "display_data"
    }
   ],
   "source": [
    "plt.plot(static_params['x'], static_params['y'])"
   ]
  }
 ],
 "metadata": {
  "kernelspec": {
   "display_name": "Python 3",
   "language": "python",
   "name": "python3"
  },
  "language_info": {
   "codemirror_mode": {
    "name": "ipython",
    "version": 3
   },
   "file_extension": ".py",
   "mimetype": "text/x-python",
   "name": "python",
   "nbconvert_exporter": "python",
   "pygments_lexer": "ipython3",
   "version": "3.8.2"
  }
 },
 "nbformat": 4,
 "nbformat_minor": 4
}
