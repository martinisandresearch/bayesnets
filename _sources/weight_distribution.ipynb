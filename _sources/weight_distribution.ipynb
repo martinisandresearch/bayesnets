{
 "cells": [
  {
   "cell_type": "markdown",
   "metadata": {},
   "source": [
    "# Distribution of Weights in a Network\n",
    "\n",
    "Let us consider the simplest possible neural network, 1 input $x$, 1 output $y$ with some non-linearity $f$. This is expressed as\n",
    "\n",
    "$$\n",
    "\\begin{aligned}\n",
    "y = f(wx + b)\n",
    "\\end{aligned}\n",
    "$$\n",
    "\n",
    "where $w$, $b$ are the weight and bias in the network. Putting this into a slightly different form\n",
    "\n",
    "$$\n",
    "\\begin{aligned}\n",
    "y = f(w(x + b/w))\n",
    "\\end{aligned}\n",
    "$$\n",
    "\n",
    "we know that the activation function is centered at $-b/w$.\n",
    "\n",
    "For this experiment, we look at the distribution of $-b/w$ for a swarm fitting to a\n",
    "\n",
    "- trig function: sin and cos have very obvious turning points.\n",
    "- ReLU activation: as a very simple activation, the $-b/w$ will correspond exactly to the turning points\n",
    "- Single hidden layer: this makes interpretability a bit clearer since we have a clearer understanding of the mix\n"
   ]
  },
  {
   "cell_type": "code",
   "execution_count": 1,
   "metadata": {
    "collapsed": false,
    "jupyter": {
     "outputs_hidden": false
    },
    "pycharm": {
     "name": "#%%\n"
    }
   },
   "outputs": [],
   "source": [
    "import numpy as np\n",
    "import torch\n",
    "from torch import nn\n",
    "\n",
    "from swarm import core, animator, networks"
   ]
  },
  {
   "cell_type": "code",
   "execution_count": 2,
   "metadata": {
    "collapsed": false,
    "jupyter": {
     "outputs_hidden": false
    },
    "pycharm": {
     "name": "#%%\n"
    }
   },
   "outputs": [],
   "source": [
    "def bee_trainer(xt, yt, width=2, num_epochs=200):\n",
    "    \"\"\"Define a simple training loop for use with swarm\"\"\"\n",
    "    net = networks.flat_net(1, width, activation=nn.ReLU)\n",
    "\n",
    "    optimiser = torch.optim.SGD(net.parameters(), lr=0.01, momentum=0.9)\n",
    "    loss_func = torch.nn.MSELoss()\n",
    "\n",
    "    for epoch in range(num_epochs):\n",
    "        optimiser.zero_grad()\n",
    "        ypred = net(xt)\n",
    "\n",
    "        loss = loss_func(ypred, yt)\n",
    "        if torch.isnan(loss):\n",
    "            raise RuntimeError(\"NaN loss, poorly configured experiment\")\n",
    "\n",
    "        loss.backward()\n",
    "        optimiser.step()\n",
    "\n",
    "        weight, bias, *_ = net.parameters()\n",
    "        yield ypred, weight.detach().flatten().numpy().copy(), bias.detach().numpy().copy()"
   ]
  },
  {
   "cell_type": "code",
   "execution_count": 36,
   "metadata": {
    "collapsed": false,
    "jupyter": {
     "outputs_hidden": false
    },
    "pycharm": {
     "name": "#%%\n"
    }
   },
   "outputs": [],
   "source": [
    "NUM_EPOCHS = 4\n",
    "NUM_BEES = 5\n",
    "SEED = 20\n",
    "\n",
    "def main():\n",
    "\n",
    "    xt = torch.linspace(-3 * np.pi, 3 * np.pi, 101)\n",
    "    yt = torch.sin(xt)\n",
    "\n",
    "    bp = {\"xt\": xt, \"yt\": yt, \"width\": 20, \"num_epochs\": NUM_EPOCHS}\n",
    "    res = core.swarm_train(bee_trainer, bp, num_bees=NUM_BEES, fields=\"ypred,weights,biases\", seed=SEED)\n",
    "\n",
    "    bw = -res[\"biases\"] / res[\"weights\"]\n",
    "\n",
    "    # reduce range to be safe\n",
    "    bw = bw.clip(-10, 10)\n",
    "\n",
    "\n",
    "    ls = animator.LineSwarm.standard(xt.detach().numpy(), yt.detach().numpy(), res[\"ypred\"][::10], set_xlim=(-10,10))\n",
    "    hist = animator.HistogramSwarm.from_swarm(\n",
    "        bw, 100, set_title=\"- Biases/Weights\", set_ylabel=\"Count\", set_xlim=(-10,10)\n",
    "    )\n",
    "    animator.swarm_animate([ls, hist], \"weight_distr.mp4\")"
   ]
  },
  {
   "cell_type": "code",
   "execution_count": 37,
   "metadata": {},
   "outputs": [
    {
     "name": "stdout",
     "output_type": "stream",
     "text": [
      "Saved to weight_distr.mp4\n"
     ]
    }
   ],
   "source": [
    "main()"
   ]
  },
  {
   "cell_type": "code",
   "execution_count": 38,
   "metadata": {},
   "outputs": [
    {
     "data": {
      "text/html": [
       "<video controls  >\n",
       " <source src=\"data:video/mp4;base64,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\" type=\"video/mp4\">\n",
       " Your browser does not support the video tag.\n",
       " </video>"
      ],
      "text/plain": [
       "<IPython.core.display.Video object>"
      ]
     },
     "execution_count": 38,
     "metadata": {},
     "output_type": "execute_result"
    }
   ],
   "source": [
    "from IPython.display import Video\n",
    "\n",
    "Video(\"weight_distr.mp4\", embed=True)"
   ]
  },
  {
   "cell_type": "markdown",
   "metadata": {},
   "source": [
    "A copy of the above that tests the github worfklow"
   ]
  },
  {
   "cell_type": "code",
   "execution_count": 32,
   "metadata": {},
   "outputs": [
    {
     "data": {
      "text/html": [
       "<video controls>\n",
       "  <source src=\"weight_distr.mp4\" type=\"video/mp4\">\n",
       "</video>\n"
      ],
      "text/plain": [
       "<IPython.core.display.HTML object>"
      ]
     },
     "metadata": {},
     "output_type": "display_data"
    }
   ],
   "source": [
    "%%HTML\n",
    "<video controls>\n",
    "  <source src=\"_images/weight_distr.mp4\" type=\"video/mp4\">\n",
    "</video>"
   ]
  },
  {
   "cell_type": "markdown",
   "metadata": {},
   "source": [
    "## Weight Distributions\n",
    "\n",
    "We can see that the biases and weights cluster around the places where the sin curve turns. As you'd expect with the starting conditions being quite close to 0, we see that most of the bends assigned by the network fit into the first curves and not the turning points at extremities."
   ]
  }
 ],
 "metadata": {
  "kernelspec": {
   "display_name": "Python 3",
   "language": "python",
   "name": "python3"
  },
  "language_info": {
   "codemirror_mode": {
    "name": "ipython",
    "version": 3
   },
   "file_extension": ".py",
   "mimetype": "text/x-python",
   "name": "python",
   "nbconvert_exporter": "python",
   "pygments_lexer": "ipython3",
   "version": "3.8.5"
  },
  "widgets": {
   "application/vnd.jupyter.widget-state+json": {
    "state": {},
    "version_major": 2,
    "version_minor": 0
   }
  }
 },
 "nbformat": 4,
 "nbformat_minor": 4
}
