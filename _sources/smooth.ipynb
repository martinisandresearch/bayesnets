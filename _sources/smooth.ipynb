{
 "cells": [
  {
   "cell_type": "markdown",
   "metadata": {
    "collapsed": true,
    "pycharm": {
     "name": "#%% md\n"
    }
   },
   "source": [
    "# Training a Network to maximise it's curvature\n",
    "\n",
    "WIP"
   ]
  },
  {
   "cell_type": "code",
   "execution_count": null,
   "outputs": [],
   "source": [
    "import numpy as np\n",
    "import torch\n",
    "from torch import nn, optim\n",
    "from matplotlib import pyplot as plt\n",
    "\n",
    "from swarm import networks, core, animator, activations\n",
    "\n",
    "import env\n",
    "plt.rcParams[\"figure.figsize\"] = (12.0, 12.0)\n",
    "\n"
   ],
   "metadata": {
    "collapsed": false,
    "pycharm": {
     "name": "#%%\n"
    }
   }
  },
  {
   "cell_type": "code",
   "execution_count": null,
   "outputs": [],
   "source": [
    "SEED = 20\n",
    "\n",
    "if not env.FULL:\n",
    "    NUM_EPOCHS = 4\n",
    "    NUM_BEES = 5\n",
    "else:\n",
    "    NUM_EPOCHS = 400\n",
    "    NUM_BEES = 500"
   ],
   "metadata": {
    "collapsed": false,
    "pycharm": {
     "name": "#%%\n"
    }
   }
  },
  {
   "cell_type": "code",
   "execution_count": null,
   "outputs": [],
   "source": [
    "def autocorr(x: torch.Tensor, n=10):\n",
    "    \"\"\"\n",
    "    Simplified autocorrelation function\n",
    "    Args:\n",
    "        x:\n",
    "        n:\n",
    "\n",
    "    Returns:\n",
    "\n",
    "    \"\"\"\n",
    "    # we normalise the vector so moving too far from 0 is penalised as well as too close to 0\n",
    "    # otherwise the solution to minimise autocorrelation is a straight line at 0\n",
    "    # and dividing by the max ends up in floating point sadness\n",
    "    x = x / x.norm()\n",
    "    num = 0\n",
    "    for i in range(n):\n",
    "        num += (x[i:] * x[: len(x) - i]).sum()\n",
    "    return num\n",
    "\n",
    "\n",
    "def diff(x: torch.Tensor) -> torch.Tensor:\n",
    "    return x[1:] - x[:-1]\n",
    "\n",
    "\n",
    "def second_deriv(ypred: torch.Tensor, mse_weight=0.01):\n",
    "    fdiff = diff(ypred)\n",
    "    sdiff = diff(fdiff)\n",
    "\n",
    "    mse = ypred.norm()\n",
    "    # ln2 = sdiff.abs().mean()\n",
    "    ln2 = sdiff.norm()\n",
    "    return mse_weight * mse - ln2\n",
    "\n",
    "\n",
    "class Sin(torch.nn.Module):\n",
    "    def forward(self, x: torch.Tensor):\n",
    "        return torch.sin(x)\n",
    "\n",
    "\n",
    "def solo_train(\n",
    "    x, hidden=2, width=2, activation=nn.ReLU, num_epochs=10, lr=0.001, momentum=0.9, corr_len=10\n",
    "):\n",
    "    net = networks.flat_net(hidden_depth=hidden, width=width, activation=activation)\n",
    "    optimiser = optim.SGD(net.parameters(), lr=lr, momentum=momentum)\n",
    "\n",
    "    mse_weight = 1\n",
    "    loss_func = lambda ypred: second_deriv(ypred, mse_weight=mse_weight)\n",
    "\n",
    "    for epoch in range(num_epochs):\n",
    "        mse_weight = min(1 / (epoch + 1), 0.1)\n",
    "        optimiser.zero_grad()\n",
    "        ypred = net(x)\n",
    "\n",
    "        loss = loss_func(ypred)\n",
    "        if torch.isnan(loss):\n",
    "            raise RuntimeError(\"NaN loss, poorly configured experiment\")\n",
    "\n",
    "        yield ypred, loss\n",
    "\n",
    "        loss.backward()\n",
    "        optimiser.step()\n",
    "\n",
    "\n",
    "def main():\n",
    "    x = torch.linspace(-10, 10, 100)\n",
    "    beeparams = {\n",
    "        \"x\": x,\n",
    "        \"num_epochs\": NUM_EPOCHS,\n",
    "        \"lr\": 0.005,\n",
    "        \"momentum\": 0.5,\n",
    "        \"width\": 50,\n",
    "        \"hidden\": 3,\n",
    "        \"activation\": activations.Tanh,\n",
    "    }\n",
    "    results = core.swarm_train(solo_train, beeparams, num_bees=NUM_BEES, seed=SEED, fields=\"ypred,loss\")\n",
    "    print(results[\"loss\"])\n",
    "    yd = np.zeros(len(x))\n",
    "    yd[0] = -0.5\n",
    "    yd[-1] = 0.5\n",
    "    animator.make_animation(\n",
    "        x.detach().numpy(), yd=yd, data=results[\"ypred\"], title=\"secondderiv\", destfile=\"sd.mp4\"\n",
    "    )\n",
    "\n",
    "\n",
    "\n"
   ],
   "metadata": {
    "collapsed": false,
    "pycharm": {
     "name": "#%%\n"
    }
   }
  }
 ],
 "metadata": {
  "kernelspec": {
   "display_name": "Python 3",
   "language": "python",
   "name": "python3"
  },
  "language_info": {
   "codemirror_mode": {
    "name": "ipython",
    "version": 2
   },
   "file_extension": ".py",
   "mimetype": "text/x-python",
   "name": "python",
   "nbconvert_exporter": "python",
   "pygments_lexer": "ipython2",
   "version": "2.7.6"
  }
 },
 "nbformat": 4,
 "nbformat_minor": 0
}
