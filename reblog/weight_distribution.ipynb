{
 "cells": [
  {
   "cell_type": "markdown",
   "metadata": {},
   "source": [
    "# Distribution of Weights in a Network\n",
    "\n",
    "Varun Nayyar, 2020-08-23\n",
    "\n",
    "Let us consider the simplest possible neural network, 1 input $x$, 1 output $y$ with some non-linearity $f$. This is expressed as\n",
    "\n",
    "$$\n",
    "\\begin{aligned}\n",
    "y = f(wx + b)\n",
    "\\end{aligned}\n",
    "$$\n",
    "\n",
    "where $w$, $b$ are the weight and bias in the network. Putting this into a slightly different form\n",
    "\n",
    "$$\n",
    "\\begin{aligned}\n",
    "y = f(w(x + b/w))\n",
    "\\end{aligned}\n",
    "$$\n",
    "\n",
    "we know that the activation function is centered at $-b/w$.\n",
    "\n",
    "For this experiment, we look at the distribution of $-b/w$ for a swarm fitting to a\n",
    "\n",
    "- trig function: sin and cos have very obvious turning points.\n",
    "- ReLU activation: as a very simple activation, the $-b/w$ will correspond exactly to the turning points\n",
    "- Single hidden layer: this makes interpretability a bit clearer since we have a clearer understanding of the mix\n"
   ]
  },
  {
   "cell_type": "code",
   "execution_count": 1,
   "metadata": {
    "collapsed": false,
    "jupyter": {
     "outputs_hidden": false
    },
    "pycharm": {
     "name": "#%%\n"
    }
   },
   "outputs": [],
   "source": [
    "import numpy as np\n",
    "import torch\n",
    "from torch import nn\n",
    "from matplotlib import pyplot as plt\n",
    "import seaborn as sns\n",
    "sns.set()\n",
    "\n",
    "from swarm import core, animator, networks"
   ]
  },
  {
   "cell_type": "code",
   "execution_count": 2,
   "metadata": {
    "collapsed": false,
    "jupyter": {
     "outputs_hidden": false
    },
    "pycharm": {
     "name": "#%%\n"
    }
   },
   "outputs": [],
   "source": [
    "def bee_trainer(xt, yt, width=2, num_epochs=200):\n",
    "    \"\"\"Define a simple training loop for use with swarm\"\"\"\n",
    "    net = networks.flat_net(1, width, activation=nn.ReLU)\n",
    "\n",
    "    optimiser = torch.optim.SGD(net.parameters(), lr=0.01, momentum=0.9)\n",
    "    loss_func = torch.nn.MSELoss()\n",
    "\n",
    "    for epoch in range(num_epochs):\n",
    "        optimiser.zero_grad()\n",
    "        ypred = net(xt)\n",
    "\n",
    "        loss = loss_func(ypred, yt)\n",
    "        if torch.isnan(loss):\n",
    "            raise RuntimeError(\"NaN loss, poorly configured experiment\")\n",
    "\n",
    "        loss.backward()\n",
    "        optimiser.step()\n",
    "\n",
    "        weight, bias, *_ = net.parameters()\n",
    "        yield ypred, weight.detach().flatten().numpy().copy(), bias.detach().numpy().copy()"
   ]
  },
  {
   "cell_type": "code",
   "execution_count": 3,
   "metadata": {
    "collapsed": false,
    "jupyter": {
     "outputs_hidden": false
    },
    "pycharm": {
     "name": "#%%\n"
    }
   },
   "outputs": [],
   "source": [
    "NUM_EPOCHS = 4\n",
    "NUM_BEES = 5\n",
    "SEED = 20\n",
    "\n",
    "\n",
    "plt.rcParams[\"figure.figsize\"] = (10.0, 10.0)\n",
    "\n",
    "def main():\n",
    "\n",
    "    xt = torch.linspace(-3 * np.pi, 3 * np.pi, 101)\n",
    "    yt = torch.sin(xt)\n",
    "\n",
    "    bp = {\"xt\": xt, \"yt\": yt, \"width\": 20, \"num_epochs\": NUM_EPOCHS}\n",
    "    res = core.swarm_train(bee_trainer, bp, num_bees=NUM_BEES, fields=\"ypred,weights,biases\", seed=SEED)\n",
    "\n",
    "    bw = -res[\"biases\"] / res[\"weights\"]\n",
    "\n",
    "    # reduce range to be safe\n",
    "    bw = bw.clip(-10, 10)\n",
    "\n",
    "\n",
    "    ls = animator.LineSwarm.standard(xt.detach().numpy(), yt.detach().numpy(), res[\"ypred\"][::10], set_xlim=(-10,10))\n",
    "    hist = animator.HistogramSwarm.from_swarm(\n",
    "        bw, 100, set_title=\"- Biases/Weights\", set_ylabel=\"Count\", set_xlim=(-10,10)\n",
    "    )\n",
    "    animator.swarm_animate([ls, hist], \"weight_distr.mp4\")"
   ]
  },
  {
   "cell_type": "code",
   "execution_count": 4,
   "metadata": {},
   "outputs": [
    {
     "name": "stdout",
     "output_type": "stream",
     "text": [
      "Saved to weight_distr.mp4\n"
     ]
    }
   ],
   "source": [
    "main()"
   ]
  },
  {
   "cell_type": "code",
   "execution_count": 5,
   "metadata": {},
   "outputs": [
    {
     "data": {
      "text/html": [
       "<video controls  >\n",
       " <source src=\"data:video/mp4;base64,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\" type=\"video/mp4\">\n",
       " Your browser does not support the video tag.\n",
       " </video>"
      ],
      "text/plain": [
       "<IPython.core.display.Video object>"
      ]
     },
     "execution_count": 5,
     "metadata": {},
     "output_type": "execute_result"
    }
   ],
   "source": [
    "from IPython.display import Video\n",
    "\n",
    "Video(\"weight_distr.mp4\", embed=True)"
   ]
  },
  {
   "cell_type": "markdown",
   "metadata": {},
   "source": [
    "A copy of the above that tests the github worfklow"
   ]
  },
  {
   "cell_type": "code",
   "execution_count": 1,
   "metadata": {},
   "outputs": [],
   "source": [
    "# %%HTML\n",
    "# <video controls>\n",
    "#   <source src=\"_images/weight_distr.mp4\" type=\"video/mp4\">\n",
    "# </video>"
   ]
  },
  {
   "cell_type": "markdown",
   "metadata": {},
   "source": [
    "## Weight Distributions\n",
    "\n",
    "We can see that the biases and weights cluster around the places where the sin curve turns. As you'd expect with the starting conditions being quite close to 0, we see that most of the bends assigned by the network fit into the first curves and not the turning points at extremities."
   ]
  }
 ],
 "metadata": {
  "kernelspec": {
   "display_name": "Python 3",
   "language": "python",
   "name": "python3"
  },
  "language_info": {
   "codemirror_mode": {
    "name": "ipython",
    "version": 3
   },
   "file_extension": ".py",
   "mimetype": "text/x-python",
   "name": "python",
   "nbconvert_exporter": "python",
   "pygments_lexer": "ipython3",
   "version": "3.8.5"
  },
  "widgets": {
   "application/vnd.jupyter.widget-state+json": {
    "state": {},
    "version_major": 2,
    "version_minor": 0
   }
  }
 },
 "nbformat": 4,
 "nbformat_minor": 4
}
